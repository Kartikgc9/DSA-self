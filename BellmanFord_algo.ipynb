{
  "nbformat": 4,
  "nbformat_minor": 0,
  "metadata": {
    "colab": {
      "provenance": [],
      "authorship_tag": "ABX9TyNvtpZo4tbMyNndwjzf8ryy",
      "include_colab_link": true
    },
    "kernelspec": {
      "name": "python3",
      "display_name": "Python 3"
    },
    "language_info": {
      "name": "python"
    }
  },
  "cells": [
    {
      "cell_type": "markdown",
      "metadata": {
        "id": "view-in-github",
        "colab_type": "text"
      },
      "source": [
        "<a href=\"https://colab.research.google.com/github/Kartikgc9/DSA-self/blob/main/BellmanFord_algo.ipynb\" target=\"_parent\"><img src=\"https://colab.research.google.com/assets/colab-badge.svg\" alt=\"Open In Colab\"/></a>"
      ]
    },
    {
      "cell_type": "code",
      "execution_count": 1,
      "metadata": {
        "colab": {
          "base_uri": "https://localhost:8080/"
        },
        "id": "oeekCz0o5cuP",
        "outputId": "f63c282d-7b07-4d6e-ea94-c434c70ef561"
      },
      "outputs": [
        {
          "output_type": "stream",
          "name": "stdout",
          "text": [
            "\n",
            "The Bellman-Ford Algorithm starting from vertex D:\n",
            "Relaxing edge D-A, Updated distance to A: 4\n",
            "Relaxing edge D-C, Updated distance to C: 7\n",
            "Relaxing edge D-E, Updated distance to E: 3\n",
            "Relaxing edge E-B, Updated distance to B: 5\n",
            "Relaxing edge E-C, Updated distance to C: 6\n",
            "Relaxing edge B-C, Updated distance to C: 1\n",
            "Relaxing edge C-A, Updated distance to A: -2\n",
            "Distance from D to A: -2\n",
            "Distance from D to B: 5\n",
            "Distance from D to C: 1\n",
            "Distance from D to D: 0\n",
            "Distance from D to E: 3\n"
          ]
        }
      ],
      "source": [
        "class Graph:\n",
        "    def __init__(self, size):\n",
        "        self.adj_matrix = [[0] * size for _ in range(size)]\n",
        "        self.size = size\n",
        "        self.vertex_data = [''] * size\n",
        "\n",
        "    def add_edge(self, u, v, weight):\n",
        "        if 0 <= u < self.size and 0 <= v < self.size:\n",
        "            self.adj_matrix[u][v] = weight\n",
        "            #self.adj_matrix[v][u] = weight  # For undirected graph\n",
        "\n",
        "    def add_vertex_data(self, vertex, data):\n",
        "        if 0 <= vertex < self.size:\n",
        "            self.vertex_data[vertex] = data\n",
        "\n",
        "    def bellman_ford(self, start_vertex_data):\n",
        "        start_vertex = self.vertex_data.index(start_vertex_data)\n",
        "        distances = [float('inf')] * self.size\n",
        "        distances[start_vertex] = 0\n",
        "\n",
        "        for i in range(self.size - 1):\n",
        "            for u in range(self.size):\n",
        "                for v in range(self.size):\n",
        "                    if self.adj_matrix[u][v] != 0:\n",
        "                        if distances[u] + self.adj_matrix[u][v] < distances[v]:\n",
        "                            distances[v] = distances[u] + self.adj_matrix[u][v]\n",
        "                            print(f\"Relaxing edge {self.vertex_data[u]}-{self.vertex_data[v]}, Updated distance to {self.vertex_data[v]}: {distances[v]}\")\n",
        "\n",
        "        return distances\n",
        "\n",
        "g = Graph(5)\n",
        "\n",
        "g.add_vertex_data(0, 'A')\n",
        "g.add_vertex_data(1, 'B')\n",
        "g.add_vertex_data(2, 'C')\n",
        "g.add_vertex_data(3, 'D')\n",
        "g.add_vertex_data(4, 'E')\n",
        "\n",
        "g.add_edge(3, 0, 4)  # D -> A, weight 4\n",
        "g.add_edge(3, 2, 7)  # D -> C, weight 7\n",
        "g.add_edge(3, 4, 3)  # D -> E, weight 3\n",
        "g.add_edge(0, 2, 4)  # A -> C, weight 4\n",
        "g.add_edge(2, 0, -3) # C -> A, weight -3\n",
        "g.add_edge(0, 4, 5)  # A -> E, weight 5\n",
        "g.add_edge(4, 2, 3)  # E -> C, weight 3\n",
        "g.add_edge(1, 2, -4) # B -> C, weight -4\n",
        "g.add_edge(4, 1, 2)  # E -> B, weight 2\n",
        "\n",
        "# Running the Bellman-Ford algorithm from D to all vertices\n",
        "print(\"\\nThe Bellman-Ford Algorithm starting from vertex D:\")\n",
        "distances = g.bellman_ford('D')\n",
        "for i, d in enumerate(distances):\n",
        "    print(f\"Distance from D to {g.vertex_data[i]}: {d}\")"
      ]
    }
  ]
}